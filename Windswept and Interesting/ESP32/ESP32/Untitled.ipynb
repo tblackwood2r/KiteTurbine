{
 "cells": [
  {
   "cell_type": "code",
   "execution_count": 1,
   "source": [
    "import pandas as pd"
   ],
   "outputs": [],
   "metadata": {}
  },
  {
   "cell_type": "code",
   "execution_count": 24,
   "source": [
    "filename = \"platformio-device-monitor-210902-130858.log\"\n",
    "data = pd.read_csv(filename, names = [\"time\", \"roll\", \"pitch\", \"yaw\"], skiprows=1)\n",
    "data.head()"
   ],
   "outputs": [
    {
     "output_type": "execute_result",
     "data": {
      "text/html": [
       "<div>\n",
       "<style scoped>\n",
       "    .dataframe tbody tr th:only-of-type {\n",
       "        vertical-align: middle;\n",
       "    }\n",
       "\n",
       "    .dataframe tbody tr th {\n",
       "        vertical-align: top;\n",
       "    }\n",
       "\n",
       "    .dataframe thead th {\n",
       "        text-align: right;\n",
       "    }\n",
       "</style>\n",
       "<table border=\"1\" class=\"dataframe\">\n",
       "  <thead>\n",
       "    <tr style=\"text-align: right;\">\n",
       "      <th></th>\n",
       "      <th>time</th>\n",
       "      <th>roll</th>\n",
       "      <th>pitch</th>\n",
       "      <th>yaw</th>\n",
       "    </tr>\n",
       "  </thead>\n",
       "  <tbody>\n",
       "    <tr>\n",
       "      <th>0</th>\n",
       "      <td>13:08:58.893 &gt;</td>\n",
       "      <td>0.23</td>\n",
       "      <td>0.37</td>\n",
       "      <td>-123.88</td>\n",
       "    </tr>\n",
       "    <tr>\n",
       "      <th>1</th>\n",
       "      <td>13:08:58.917 &gt;</td>\n",
       "      <td>0.23</td>\n",
       "      <td>0.38</td>\n",
       "      <td>-123.87</td>\n",
       "    </tr>\n",
       "    <tr>\n",
       "      <th>2</th>\n",
       "      <td>13:08:58.941 &gt;</td>\n",
       "      <td>0.23</td>\n",
       "      <td>0.39</td>\n",
       "      <td>-123.87</td>\n",
       "    </tr>\n",
       "    <tr>\n",
       "      <th>3</th>\n",
       "      <td>13:08:58.965 &gt;</td>\n",
       "      <td>0.23</td>\n",
       "      <td>0.39</td>\n",
       "      <td>-123.87</td>\n",
       "    </tr>\n",
       "    <tr>\n",
       "      <th>4</th>\n",
       "      <td>13:08:58.989 &gt;</td>\n",
       "      <td>0.23</td>\n",
       "      <td>0.39</td>\n",
       "      <td>-123.87</td>\n",
       "    </tr>\n",
       "  </tbody>\n",
       "</table>\n",
       "</div>"
      ],
      "text/plain": [
       "              time  roll  pitch     yaw\n",
       "0  13:08:58.893 >   0.23   0.37 -123.88\n",
       "1  13:08:58.917 >   0.23   0.38 -123.87\n",
       "2  13:08:58.941 >   0.23   0.39 -123.87\n",
       "3  13:08:58.965 >   0.23   0.39 -123.87\n",
       "4  13:08:58.989 >   0.23   0.39 -123.87"
      ]
     },
     "metadata": {},
     "execution_count": 24
    }
   ],
   "metadata": {}
  },
  {
   "cell_type": "code",
   "execution_count": 25,
   "source": [
    "data['TIME'] = pd.to_datetime(data['time'].map(lambda x: x.rstrip(' > ')))\n",
    "data.head()"
   ],
   "outputs": [
    {
     "output_type": "execute_result",
     "data": {
      "text/html": [
       "<div>\n",
       "<style scoped>\n",
       "    .dataframe tbody tr th:only-of-type {\n",
       "        vertical-align: middle;\n",
       "    }\n",
       "\n",
       "    .dataframe tbody tr th {\n",
       "        vertical-align: top;\n",
       "    }\n",
       "\n",
       "    .dataframe thead th {\n",
       "        text-align: right;\n",
       "    }\n",
       "</style>\n",
       "<table border=\"1\" class=\"dataframe\">\n",
       "  <thead>\n",
       "    <tr style=\"text-align: right;\">\n",
       "      <th></th>\n",
       "      <th>time</th>\n",
       "      <th>roll</th>\n",
       "      <th>pitch</th>\n",
       "      <th>yaw</th>\n",
       "      <th>TIME</th>\n",
       "    </tr>\n",
       "  </thead>\n",
       "  <tbody>\n",
       "    <tr>\n",
       "      <th>0</th>\n",
       "      <td>13:08:58.893 &gt;</td>\n",
       "      <td>0.23</td>\n",
       "      <td>0.37</td>\n",
       "      <td>-123.88</td>\n",
       "      <td>2021-09-02 13:08:58.893</td>\n",
       "    </tr>\n",
       "    <tr>\n",
       "      <th>1</th>\n",
       "      <td>13:08:58.917 &gt;</td>\n",
       "      <td>0.23</td>\n",
       "      <td>0.38</td>\n",
       "      <td>-123.87</td>\n",
       "      <td>2021-09-02 13:08:58.917</td>\n",
       "    </tr>\n",
       "    <tr>\n",
       "      <th>2</th>\n",
       "      <td>13:08:58.941 &gt;</td>\n",
       "      <td>0.23</td>\n",
       "      <td>0.39</td>\n",
       "      <td>-123.87</td>\n",
       "      <td>2021-09-02 13:08:58.941</td>\n",
       "    </tr>\n",
       "    <tr>\n",
       "      <th>3</th>\n",
       "      <td>13:08:58.965 &gt;</td>\n",
       "      <td>0.23</td>\n",
       "      <td>0.39</td>\n",
       "      <td>-123.87</td>\n",
       "      <td>2021-09-02 13:08:58.965</td>\n",
       "    </tr>\n",
       "    <tr>\n",
       "      <th>4</th>\n",
       "      <td>13:08:58.989 &gt;</td>\n",
       "      <td>0.23</td>\n",
       "      <td>0.39</td>\n",
       "      <td>-123.87</td>\n",
       "      <td>2021-09-02 13:08:58.989</td>\n",
       "    </tr>\n",
       "  </tbody>\n",
       "</table>\n",
       "</div>"
      ],
      "text/plain": [
       "              time  roll  pitch     yaw                    TIME\n",
       "0  13:08:58.893 >   0.23   0.37 -123.88 2021-09-02 13:08:58.893\n",
       "1  13:08:58.917 >   0.23   0.38 -123.87 2021-09-02 13:08:58.917\n",
       "2  13:08:58.941 >   0.23   0.39 -123.87 2021-09-02 13:08:58.941\n",
       "3  13:08:58.965 >   0.23   0.39 -123.87 2021-09-02 13:08:58.965\n",
       "4  13:08:58.989 >   0.23   0.39 -123.87 2021-09-02 13:08:58.989"
      ]
     },
     "metadata": {},
     "execution_count": 25
    }
   ],
   "metadata": {
    "scrolled": true
   }
  },
  {
   "cell_type": "code",
   "execution_count": 28,
   "source": [
    "import csv\n",
    "import datetime\n",
    "import serial\n",
    "import time\n",
    "\n",
    "import tkinter as tk\n",
    "\n",
    "# port = '/dev/serial/by-id/usb-Prolific_Technology_Inc._USB-Serial_Controller_D-if00-port0'\n",
    "port = '/dev/ttyUSB0'\n",
    "baud = 115200\n",
    "\n",
    "df = pd.DataFrame(columns=[\"roll\", \"pitch\", \"yaw\"])\n",
    "ser = serial.Serial(port, baud, timeout=1)\n",
    "ser.flushInput()\n",
    "print(ser.name)\n",
    "oldline = []\n",
    "window = tk.Tk()\n",
    "while True:\n",
    "    try:\n",
    "        #ser_bytes = ser.readline()\n",
    "        #decode_bytes = float(ser_bytes[0:len(ser_bytes)-2].decode('utf-8'))\n",
    "        #print(decode_bytes)\n",
    "\n",
    "        line = ser.readline() # read bytes until line-ending\n",
    "        line = line.decode(encoding='UTF-8') # convert to string\n",
    "        #line = line.rstrip('\\r\\n') # Remove line-ending characters\n",
    "\n",
    "        split_line = line.splitlines()\n",
    "        print(time.time(), split_line[0].split[','])\n",
    "        df.append(pd.DataFrame(split_line[0].split[','], columns=['Roll', 'Pitch', 'Yaw'], index=pd.Timestamp.now())\n",
    "        if oldline != split_line:\n",
    "            with open(\"test_data.csv\", \"a\") as f:\n",
    "                for item in split_line:\n",
    "                    writer = csv.writer(f, delimiter = \",\")\n",
    "                    writer.writerow([time.time(), item])\n",
    "\n",
    "        oldline = split_line\n",
    "    except:\n",
    "        print(\"Exiting\")\n",
    "        # print(\"Keyboard interrupt\")\n",
    "        break # updated so it doesn't quit."
   ],
   "outputs": [
    {
     "output_type": "stream",
     "name": "stdout",
     "text": [
      "/dev/ttyUSB0\n"
     ]
    }
   ],
   "metadata": {}
  },
  {
   "cell_type": "code",
   "execution_count": null,
   "source": [],
   "outputs": [],
   "metadata": {}
  }
 ],
 "metadata": {
  "kernelspec": {
   "display_name": "Python 3",
   "language": "python",
   "name": "python3"
  },
  "language_info": {
   "codemirror_mode": {
    "name": "ipython",
    "version": 3
   },
   "file_extension": ".py",
   "mimetype": "text/x-python",
   "name": "python",
   "nbconvert_exporter": "python",
   "pygments_lexer": "ipython3",
   "version": "3.8.5"
  }
 },
 "nbformat": 4,
 "nbformat_minor": 4
}